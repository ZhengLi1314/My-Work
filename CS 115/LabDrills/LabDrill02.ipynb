{
 "cells": [
  {
   "cell_type": "markdown",
   "metadata": {},
   "source": [
    "# LabDrill02_yourFirstnameLastname\n",
    "\n",
    "### Instructions:"
   ]
  },
  {
   "cell_type": "raw",
   "metadata": {},
   "source": [
    "Save this .ipynb file in the following location. \n",
    "\n",
    "    - For Mac/Linux: /Users/<username>/Projects/CS115/LabDrill02/\n",
    "\n",
    "    - For Windows: C:\\Users\\<username>\\Projects/CS115\\LabDrill02\\\n",
    "    \n",
    "\n",
    "Rename yourFirstnameLastname in the title LabDrill02_yourFirstnameLastname.ipynb to your firstname and lastname.\n",
    "\n",
    "    - For example, LabDrill02_JaniceJoplin.ipynb\n",
    "\n",
    "Complete the lab presented by your TA and print the .pdf of the .ipynb by pressing the following:\n",
    "    \n",
    "    - For Mac/Linux: command + P \n",
    "\n",
    "    - For Windows: Ctrl + P\n",
    "\n",
    "Submit the .pdf file to Canvas.\n",
    "    - For example, LabDrill02_JaniceJoplin.pdf"
   ]
  },
  {
   "cell_type": "markdown",
   "metadata": {},
   "source": [
    "-----"
   ]
  },
  {
   "cell_type": "markdown",
   "metadata": {},
   "source": [
    "-----"
   ]
  },
  {
   "cell_type": "code",
   "execution_count": null,
   "metadata": {},
   "outputs": [],
   "source": []
  }
 ],
 "metadata": {
  "kernelspec": {
   "display_name": "Python 3",
   "language": "python",
   "name": "python3"
  },
  "language_info": {
   "codemirror_mode": {
    "name": "ipython",
    "version": 3
   },
   "file_extension": ".py",
   "mimetype": "text/x-python",
   "name": "python",
   "nbconvert_exporter": "python",
   "pygments_lexer": "ipython3",
   "version": "3.7.3"
  }
 },
 "nbformat": 4,
 "nbformat_minor": 2
}
